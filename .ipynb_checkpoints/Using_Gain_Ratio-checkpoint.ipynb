{
 "cells": [
  {
   "cell_type": "code",
   "execution_count": 91,
   "id": "37e24baf-a615-4100-b722-221b6b5510f6",
   "metadata": {
    "pycharm": {
     "name": "#%%\n"
    }
   },
   "outputs": [],
   "source": [
    "import pandas as pd\n",
    "import numpy as np\n",
    "import matplotlib.pyplot as plt\n",
    "\n",
    "from sklearn.model_selection import train_test_split\n",
    "from sklearn.preprocessing import KBinsDiscretizer\n",
    "\n",
    "import warnings\n",
    "warnings.filterwarnings('ignore')"
   ]
  },
  {
   "cell_type": "code",
   "execution_count": 92,
   "id": "31d21fb1-1e43-4e2b-b7ff-feb83dc07fd9",
   "metadata": {
    "pycharm": {
     "name": "#%%\n"
    }
   },
   "outputs": [
    {
     "data": {
      "text/html": [
       "<div>\n",
       "<style scoped>\n",
       "    .dataframe tbody tr th:only-of-type {\n",
       "        vertical-align: middle;\n",
       "    }\n",
       "\n",
       "    .dataframe tbody tr th {\n",
       "        vertical-align: top;\n",
       "    }\n",
       "\n",
       "    .dataframe thead th {\n",
       "        text-align: right;\n",
       "    }\n",
       "</style>\n",
       "<table border=\"1\" class=\"dataframe\">\n",
       "  <thead>\n",
       "    <tr style=\"text-align: right;\">\n",
       "      <th></th>\n",
       "      <th>Outlook</th>\n",
       "      <th>Temperature</th>\n",
       "      <th>Humidity</th>\n",
       "      <th>Wind</th>\n",
       "      <th>Play Golf</th>\n",
       "    </tr>\n",
       "  </thead>\n",
       "  <tbody>\n",
       "    <tr>\n",
       "      <th>0</th>\n",
       "      <td>Sunny</td>\n",
       "      <td>Hot</td>\n",
       "      <td>High</td>\n",
       "      <td>Weak</td>\n",
       "      <td>No</td>\n",
       "    </tr>\n",
       "    <tr>\n",
       "      <th>1</th>\n",
       "      <td>Sunny</td>\n",
       "      <td>Hot</td>\n",
       "      <td>High</td>\n",
       "      <td>Strong</td>\n",
       "      <td>No</td>\n",
       "    </tr>\n",
       "    <tr>\n",
       "      <th>2</th>\n",
       "      <td>Overcast</td>\n",
       "      <td>Hot</td>\n",
       "      <td>High</td>\n",
       "      <td>Weak</td>\n",
       "      <td>Yes</td>\n",
       "    </tr>\n",
       "    <tr>\n",
       "      <th>3</th>\n",
       "      <td>Rain</td>\n",
       "      <td>Mild</td>\n",
       "      <td>High</td>\n",
       "      <td>Weak</td>\n",
       "      <td>Yes</td>\n",
       "    </tr>\n",
       "    <tr>\n",
       "      <th>4</th>\n",
       "      <td>Rain</td>\n",
       "      <td>Cool</td>\n",
       "      <td>Normal</td>\n",
       "      <td>Weak</td>\n",
       "      <td>Yes</td>\n",
       "    </tr>\n",
       "    <tr>\n",
       "      <th>5</th>\n",
       "      <td>Rain</td>\n",
       "      <td>Cool</td>\n",
       "      <td>Normal</td>\n",
       "      <td>Strong</td>\n",
       "      <td>No</td>\n",
       "    </tr>\n",
       "    <tr>\n",
       "      <th>6</th>\n",
       "      <td>Overcast</td>\n",
       "      <td>Cool</td>\n",
       "      <td>Normal</td>\n",
       "      <td>Strong</td>\n",
       "      <td>Yes</td>\n",
       "    </tr>\n",
       "    <tr>\n",
       "      <th>7</th>\n",
       "      <td>Sunny</td>\n",
       "      <td>Mild</td>\n",
       "      <td>High</td>\n",
       "      <td>Weak</td>\n",
       "      <td>No</td>\n",
       "    </tr>\n",
       "    <tr>\n",
       "      <th>8</th>\n",
       "      <td>Sunny</td>\n",
       "      <td>Cool</td>\n",
       "      <td>Normal</td>\n",
       "      <td>Weak</td>\n",
       "      <td>Yes</td>\n",
       "    </tr>\n",
       "    <tr>\n",
       "      <th>9</th>\n",
       "      <td>Rain</td>\n",
       "      <td>Mild</td>\n",
       "      <td>Normal</td>\n",
       "      <td>Weak</td>\n",
       "      <td>Yes</td>\n",
       "    </tr>\n",
       "    <tr>\n",
       "      <th>10</th>\n",
       "      <td>Sunny</td>\n",
       "      <td>Mild</td>\n",
       "      <td>Normal</td>\n",
       "      <td>Strong</td>\n",
       "      <td>Yes</td>\n",
       "    </tr>\n",
       "    <tr>\n",
       "      <th>11</th>\n",
       "      <td>Overcast</td>\n",
       "      <td>Mild</td>\n",
       "      <td>High</td>\n",
       "      <td>Strong</td>\n",
       "      <td>Yes</td>\n",
       "    </tr>\n",
       "    <tr>\n",
       "      <th>12</th>\n",
       "      <td>Overcast</td>\n",
       "      <td>Hot</td>\n",
       "      <td>Normal</td>\n",
       "      <td>Weak</td>\n",
       "      <td>Yes</td>\n",
       "    </tr>\n",
       "    <tr>\n",
       "      <th>13</th>\n",
       "      <td>Rain</td>\n",
       "      <td>Hot</td>\n",
       "      <td>High</td>\n",
       "      <td>Strong</td>\n",
       "      <td>No</td>\n",
       "    </tr>\n",
       "  </tbody>\n",
       "</table>\n",
       "</div>"
      ],
      "text/plain": [
       "     Outlook Temperature Humidity    Wind Play Golf\n",
       "0      Sunny         Hot     High    Weak        No\n",
       "1      Sunny         Hot     High  Strong        No\n",
       "2   Overcast         Hot     High    Weak       Yes\n",
       "3       Rain        Mild     High    Weak       Yes\n",
       "4       Rain        Cool   Normal    Weak       Yes\n",
       "5       Rain        Cool   Normal  Strong        No\n",
       "6   Overcast        Cool   Normal  Strong       Yes\n",
       "7      Sunny        Mild     High    Weak        No\n",
       "8      Sunny        Cool   Normal    Weak       Yes\n",
       "9       Rain        Mild   Normal    Weak       Yes\n",
       "10     Sunny        Mild   Normal  Strong       Yes\n",
       "11  Overcast        Mild     High  Strong       Yes\n",
       "12  Overcast         Hot   Normal    Weak       Yes\n",
       "13      Rain         Hot     High  Strong        No"
      ]
     },
     "execution_count": 92,
     "metadata": {},
     "output_type": "execute_result"
    }
   ],
   "source": [
    "data = pd.read_csv('data/baseball.csv')\n",
    "data"
   ]
  },
  {
   "cell_type": "code",
   "execution_count": 93,
   "id": "b560c319-edac-44aa-8f22-2e9aef089bfb",
   "metadata": {
    "pycharm": {
     "name": "#%%\n"
    }
   },
   "outputs": [],
   "source": [
    "def entropy(labels):\n",
    "    p = labels.value_counts() / len(labels)\n",
    "    return -sum(p * np.log2(p))"
   ]
  },
  {
   "cell_type": "code",
   "execution_count": 94,
   "id": "a6ec6fcf-ad26-47a5-b872-97c5070be514",
   "metadata": {
    "pycharm": {
     "name": "#%%\n"
    }
   },
   "outputs": [
    {
     "data": {
      "text/plain": [
       "0.9402859586706311"
      ]
     },
     "execution_count": 94,
     "metadata": {},
     "output_type": "execute_result"
    }
   ],
   "source": [
    "entropy(data['Play Golf'])"
   ]
  },
  {
   "cell_type": "code",
   "execution_count": 95,
   "id": "6b6d2a2c-ad14-4dc6-8a97-d01342504e08",
   "metadata": {
    "pycharm": {
     "name": "#%%\n"
    }
   },
   "outputs": [],
   "source": [
    "def gain_ratio(data , feature , target):\n",
    "    e_parent = entropy(data[target])\n",
    "    e_child = 0\n",
    "    si = 0\n",
    "    for value in data[feature].unique():\n",
    "        subset = data[data[feature]==value]\n",
    "        \n",
    "        if len(subset) == 0:\n",
    "            return 0\n",
    "        \n",
    "        w = len(subset) / len(data)\n",
    "        e_child += w * entropy(subset[target])\n",
    "        \n",
    "        si += -(w * np.log2(w))\n",
    "        info_gain =  e_parent - e_child\n",
    "    return info_gain / si"
   ]
  },
  {
   "cell_type": "code",
   "execution_count": 96,
   "id": "71ad03b8-1685-4b40-acab-199e73a97694",
   "metadata": {
    "pycharm": {
     "name": "#%%\n"
    }
   },
   "outputs": [
    {
     "data": {
      "text/plain": [
       "0.048848615511520824"
      ]
     },
     "execution_count": 96,
     "metadata": {},
     "output_type": "execute_result"
    }
   ],
   "source": [
    "gain_ratio(data , 'Wind' , 'Play Golf')"
   ]
  },
  {
   "cell_type": "code",
   "execution_count": 97,
   "id": "c9d10050-29aa-4ef5-8f52-82f04afc029e",
   "metadata": {
    "pycharm": {
     "name": "#%%\n"
    }
   },
   "outputs": [
    {
     "data": {
      "text/plain": [
       "0.15183550136234159"
      ]
     },
     "execution_count": 97,
     "metadata": {},
     "output_type": "execute_result"
    }
   ],
   "source": [
    "gain_ratio(data , 'Humidity' , 'Play Golf')"
   ]
  },
  {
   "cell_type": "code",
   "execution_count": 98,
   "id": "6003fa2c-7717-4d2a-b079-4e1758b61160",
   "metadata": {
    "pycharm": {
     "name": "#%%\n"
    }
   },
   "outputs": [
    {
     "data": {
      "text/plain": [
       "0.15642756242117528"
      ]
     },
     "execution_count": 98,
     "metadata": {},
     "output_type": "execute_result"
    }
   ],
   "source": [
    "gain_ratio(data , 'Outlook' , 'Play Golf')"
   ]
  },
  {
   "cell_type": "code",
   "execution_count": 99,
   "id": "410faf5c-db76-4b88-85e6-b6827907d6a7",
   "metadata": {
    "pycharm": {
     "name": "#%%\n"
    }
   },
   "outputs": [
    {
     "data": {
      "text/plain": [
       "0.06586297902239394"
      ]
     },
     "execution_count": 99,
     "metadata": {},
     "output_type": "execute_result"
    }
   ],
   "source": [
    "gain_ratio(data , 'Temperature' , 'Play Golf')"
   ]
  },
  {
   "cell_type": "code",
   "execution_count": 100,
   "id": "efc11be0-49db-438b-a4f5-40e430bf2fee",
   "metadata": {
    "pycharm": {
     "name": "#%%\n"
    }
   },
   "outputs": [],
   "source": [
    "class Node:\n",
    "    \n",
    "    def __init__(self , feature=None , label=None):\n",
    "        self.feature = feature\n",
    "        self.label = label\n",
    "        self.children = {}\n",
    "        \n",
    "    def __repr__(self):\n",
    "        if self.feature is not None:\n",
    "            return f'DecisionNode(feature=\"{self.feature}\", children={self.children})'\n",
    "        else:\n",
    "            return f'LeafNode(label=\"{self.label}\")'"
   ]
  },
  {
   "cell_type": "code",
   "execution_count": 101,
   "id": "03b4ab26-e2a7-47b0-90aa-06c60c88b01d",
   "metadata": {
    "pycharm": {
     "name": "#%%\n"
    }
   },
   "outputs": [
    {
     "data": {
      "text/plain": [
       "DecisionNode(feature=\"wind\", children={})"
      ]
     },
     "execution_count": 101,
     "metadata": {},
     "output_type": "execute_result"
    }
   ],
   "source": [
    "Node(feature='wind')"
   ]
  },
  {
   "cell_type": "code",
   "execution_count": 102,
   "id": "7a9bc309-4eed-4dfe-9b37-f136dead9e4d",
   "metadata": {
    "pycharm": {
     "name": "#%%\n"
    }
   },
   "outputs": [],
   "source": [
    "def make_tree(data, target):\n",
    "    # leaf node?\n",
    "    if len(data[target].unique()) == 1:\n",
    "        return Node(label=data[target].iloc[0])\n",
    "    \n",
    "    features = data.drop(target, axis=1).columns\n",
    "    if len(features) == 0 or len(data) == 0:\n",
    "        return Node(label=data[target].mode()[0])\n",
    "    \n",
    "    # calculate information gain\n",
    "    gains = [IG(data, feature, target) for feature in features]\n",
    "    \n",
    "    # greedy search to find best feature\n",
    "    max_gain_idx = np.argmax(gains)\n",
    "    best_feature = features[max_gain_idx]\n",
    "    \n",
    "    # make a node\n",
    "    node = Node(feature=best_feature)\n",
    "\n",
    "    # loop over the best feature\n",
    "    for value in data[best_feature].unique():\n",
    "        subset = data[data[best_feature] == value].drop(best_feature, axis=1)\n",
    "        # display(subset)\n",
    "        \n",
    "        node.children[value] = make_tree(subset, target)\n",
    "    return node"
   ]
  },
  {
   "cell_type": "code",
   "execution_count": 103,
   "id": "ccebb84c-eda2-4552-8ef9-0a16b93d7e61",
   "metadata": {
    "pycharm": {
     "name": "#%%\n"
    }
   },
   "outputs": [
    {
     "data": {
      "text/plain": [
       "DecisionNode(feature=\"Outlook\", children={'Sunny': DecisionNode(feature=\"Humidity\", children={'High': LeafNode(label=\"No\"), 'Normal': LeafNode(label=\"Yes\")}), 'Overcast': LeafNode(label=\"Yes\"), 'Rain': DecisionNode(feature=\"Wind\", children={'Weak': LeafNode(label=\"Yes\"), 'Strong': LeafNode(label=\"No\")})})"
      ]
     },
     "execution_count": 103,
     "metadata": {},
     "output_type": "execute_result"
    }
   ],
   "source": [
    "tree = make_tree(data , 'Play Golf')\n",
    "tree"
   ]
  },
  {
   "cell_type": "code",
   "execution_count": 104,
   "id": "db371fed-ac0a-4252-b93c-6569a861ce32",
   "metadata": {
    "pycharm": {
     "name": "#%%\n"
    }
   },
   "outputs": [
    {
     "data": {
      "text/html": [
       "<div>\n",
       "<style scoped>\n",
       "    .dataframe tbody tr th:only-of-type {\n",
       "        vertical-align: middle;\n",
       "    }\n",
       "\n",
       "    .dataframe tbody tr th {\n",
       "        vertical-align: top;\n",
       "    }\n",
       "\n",
       "    .dataframe thead th {\n",
       "        text-align: right;\n",
       "    }\n",
       "</style>\n",
       "<table border=\"1\" class=\"dataframe\">\n",
       "  <thead>\n",
       "    <tr style=\"text-align: right;\">\n",
       "      <th></th>\n",
       "      <th>Outlook</th>\n",
       "      <th>Temperature</th>\n",
       "      <th>Humidity</th>\n",
       "      <th>Wind</th>\n",
       "      <th>Play Golf</th>\n",
       "    </tr>\n",
       "  </thead>\n",
       "  <tbody>\n",
       "    <tr>\n",
       "      <th>0</th>\n",
       "      <td>Overcast</td>\n",
       "      <td>Mild</td>\n",
       "      <td>High</td>\n",
       "      <td>Weak</td>\n",
       "      <td>Yes</td>\n",
       "    </tr>\n",
       "    <tr>\n",
       "      <th>1</th>\n",
       "      <td>Rain</td>\n",
       "      <td>Cool</td>\n",
       "      <td>Normal</td>\n",
       "      <td>Strong</td>\n",
       "      <td>No</td>\n",
       "    </tr>\n",
       "    <tr>\n",
       "      <th>2</th>\n",
       "      <td>Sunny</td>\n",
       "      <td>Hot</td>\n",
       "      <td>Normal</td>\n",
       "      <td>Weak</td>\n",
       "      <td>Yes</td>\n",
       "    </tr>\n",
       "  </tbody>\n",
       "</table>\n",
       "</div>"
      ],
      "text/plain": [
       "    Outlook Temperature Humidity    Wind Play Golf\n",
       "0  Overcast        Mild     High    Weak       Yes\n",
       "1      Rain        Cool   Normal  Strong        No\n",
       "2     Sunny         Hot   Normal    Weak       Yes"
      ]
     },
     "execution_count": 104,
     "metadata": {},
     "output_type": "execute_result"
    }
   ],
   "source": [
    "data_test = pd.read_csv('data/baseball-test.csv')\n",
    "data_test"
   ]
  },
  {
   "cell_type": "code",
   "execution_count": 105,
   "id": "cc98bb4a-d2ef-49b9-9c05-25de63a1fd98",
   "metadata": {},
   "outputs": [
    {
     "data": {
      "text/plain": [
       "{'High': LeafNode(label=\"No\"), 'Normal': LeafNode(label=\"Yes\")}"
      ]
     },
     "execution_count": 105,
     "metadata": {},
     "output_type": "execute_result"
    }
   ],
   "source": [
    "tree.children['Sunny'].children"
   ]
  },
  {
   "cell_type": "code",
   "execution_count": 106,
   "id": "6435f0a2-0294-408e-8b63-2dcec19a4169",
   "metadata": {
    "pycharm": {
     "name": "#%%\n"
    }
   },
   "outputs": [
    {
     "data": {
      "text/plain": [
       "['Yes', 'No', 'Yes']"
      ]
     },
     "execution_count": 106,
     "metadata": {},
     "output_type": "execute_result"
    }
   ],
   "source": [
    "def predict(node, sample):\n",
    "    if node.feature is None:\n",
    "        return node.label\n",
    "    \n",
    "    feature_value = sample[node.feature]\n",
    "    \n",
    "    if feature_value in node.children:\n",
    "        return predict(node.children[feature_value], sample)\n",
    "    else:\n",
    "        return node.label\n",
    "\n",
    "[predict(tree, sample) for _, sample in data_test.iterrows()]"
   ]
  },
  {
   "cell_type": "code",
   "execution_count": 107,
   "id": "7a254e81-b982-437a-8c9f-a9dea8d04a15",
   "metadata": {
    "pycharm": {
     "name": "#%%\n"
    }
   },
   "outputs": [
    {
     "data": {
      "text/html": [
       "<div>\n",
       "<style scoped>\n",
       "    .dataframe tbody tr th:only-of-type {\n",
       "        vertical-align: middle;\n",
       "    }\n",
       "\n",
       "    .dataframe tbody tr th {\n",
       "        vertical-align: top;\n",
       "    }\n",
       "\n",
       "    .dataframe thead th {\n",
       "        text-align: right;\n",
       "    }\n",
       "</style>\n",
       "<table border=\"1\" class=\"dataframe\">\n",
       "  <thead>\n",
       "    <tr style=\"text-align: right;\">\n",
       "      <th></th>\n",
       "      <th>Outlook</th>\n",
       "      <th>Temperature</th>\n",
       "      <th>Humidity</th>\n",
       "      <th>Wind</th>\n",
       "      <th>Play Golf</th>\n",
       "    </tr>\n",
       "  </thead>\n",
       "  <tbody>\n",
       "    <tr>\n",
       "      <th>0</th>\n",
       "      <td>Sunny</td>\n",
       "      <td>85</td>\n",
       "      <td>85</td>\n",
       "      <td>Weak</td>\n",
       "      <td>No</td>\n",
       "    </tr>\n",
       "    <tr>\n",
       "      <th>1</th>\n",
       "      <td>Sunny</td>\n",
       "      <td>80</td>\n",
       "      <td>90</td>\n",
       "      <td>Strong</td>\n",
       "      <td>No</td>\n",
       "    </tr>\n",
       "    <tr>\n",
       "      <th>2</th>\n",
       "      <td>Overcast</td>\n",
       "      <td>83</td>\n",
       "      <td>86</td>\n",
       "      <td>Weak</td>\n",
       "      <td>Yes</td>\n",
       "    </tr>\n",
       "    <tr>\n",
       "      <th>3</th>\n",
       "      <td>Rain</td>\n",
       "      <td>70</td>\n",
       "      <td>96</td>\n",
       "      <td>Weak</td>\n",
       "      <td>Yes</td>\n",
       "    </tr>\n",
       "    <tr>\n",
       "      <th>4</th>\n",
       "      <td>Rain</td>\n",
       "      <td>68</td>\n",
       "      <td>80</td>\n",
       "      <td>Weak</td>\n",
       "      <td>Yes</td>\n",
       "    </tr>\n",
       "    <tr>\n",
       "      <th>5</th>\n",
       "      <td>Rain</td>\n",
       "      <td>65</td>\n",
       "      <td>70</td>\n",
       "      <td>Strong</td>\n",
       "      <td>No</td>\n",
       "    </tr>\n",
       "    <tr>\n",
       "      <th>6</th>\n",
       "      <td>Overcast</td>\n",
       "      <td>64</td>\n",
       "      <td>65</td>\n",
       "      <td>Strong</td>\n",
       "      <td>Yes</td>\n",
       "    </tr>\n",
       "    <tr>\n",
       "      <th>7</th>\n",
       "      <td>Sunny</td>\n",
       "      <td>72</td>\n",
       "      <td>95</td>\n",
       "      <td>Weak</td>\n",
       "      <td>No</td>\n",
       "    </tr>\n",
       "    <tr>\n",
       "      <th>8</th>\n",
       "      <td>Sunny</td>\n",
       "      <td>69</td>\n",
       "      <td>70</td>\n",
       "      <td>Weak</td>\n",
       "      <td>Yes</td>\n",
       "    </tr>\n",
       "    <tr>\n",
       "      <th>9</th>\n",
       "      <td>Rain</td>\n",
       "      <td>75</td>\n",
       "      <td>80</td>\n",
       "      <td>Weak</td>\n",
       "      <td>Yes</td>\n",
       "    </tr>\n",
       "    <tr>\n",
       "      <th>10</th>\n",
       "      <td>Sunny</td>\n",
       "      <td>75</td>\n",
       "      <td>70</td>\n",
       "      <td>Strong</td>\n",
       "      <td>Yes</td>\n",
       "    </tr>\n",
       "    <tr>\n",
       "      <th>11</th>\n",
       "      <td>Overcast</td>\n",
       "      <td>72</td>\n",
       "      <td>90</td>\n",
       "      <td>Strong</td>\n",
       "      <td>Yes</td>\n",
       "    </tr>\n",
       "    <tr>\n",
       "      <th>12</th>\n",
       "      <td>Overcast</td>\n",
       "      <td>81</td>\n",
       "      <td>75</td>\n",
       "      <td>Weak</td>\n",
       "      <td>Yes</td>\n",
       "    </tr>\n",
       "    <tr>\n",
       "      <th>13</th>\n",
       "      <td>Rain</td>\n",
       "      <td>71</td>\n",
       "      <td>91</td>\n",
       "      <td>Strong</td>\n",
       "      <td>No</td>\n",
       "    </tr>\n",
       "  </tbody>\n",
       "</table>\n",
       "</div>"
      ],
      "text/plain": [
       "     Outlook  Temperature  Humidity    Wind Play Golf\n",
       "0      Sunny           85        85    Weak        No\n",
       "1      Sunny           80        90  Strong        No\n",
       "2   Overcast           83        86    Weak       Yes\n",
       "3       Rain           70        96    Weak       Yes\n",
       "4       Rain           68        80    Weak       Yes\n",
       "5       Rain           65        70  Strong        No\n",
       "6   Overcast           64        65  Strong       Yes\n",
       "7      Sunny           72        95    Weak        No\n",
       "8      Sunny           69        70    Weak       Yes\n",
       "9       Rain           75        80    Weak       Yes\n",
       "10     Sunny           75        70  Strong       Yes\n",
       "11  Overcast           72        90  Strong       Yes\n",
       "12  Overcast           81        75    Weak       Yes\n",
       "13      Rain           71        91  Strong        No"
      ]
     },
     "execution_count": 107,
     "metadata": {},
     "output_type": "execute_result"
    }
   ],
   "source": [
    "df = pd.read_csv('data/play_golf.csv')\n",
    "df"
   ]
  },
  {
   "cell_type": "code",
   "execution_count": 108,
   "id": "66b66ddc-9113-4c40-ae92-88ce7c116469",
   "metadata": {
    "pycharm": {
     "name": "#%%\n"
    }
   },
   "outputs": [
    {
     "data": {
      "text/plain": [
       "Outlook        object\n",
       "Temperature     int64\n",
       "Humidity        int64\n",
       "Wind           object\n",
       "Play Golf      object\n",
       "dtype: object"
      ]
     },
     "execution_count": 108,
     "metadata": {},
     "output_type": "execute_result"
    }
   ],
   "source": [
    "df.dtypes"
   ]
  },
  {
   "cell_type": "code",
   "execution_count": 109,
   "id": "f361bfc6-44b2-46b9-af5b-4e134be1eb43",
   "metadata": {
    "pycharm": {
     "name": "#%%\n"
    }
   },
   "outputs": [
    {
     "data": {
      "text/plain": [
       "Outlook         object\n",
       "Temperature    float64\n",
       "Humidity       float64\n",
       "Wind            object\n",
       "Play Golf       object\n",
       "dtype: object"
      ]
     },
     "execution_count": 109,
     "metadata": {},
     "output_type": "execute_result"
    }
   ],
   "source": [
    "int_columns = df.select_dtypes('int64').columns\n",
    "df[int_columns] = df[int_columns].astype('float')\n",
    "df.dtypes"
   ]
  },
  {
   "cell_type": "code",
   "execution_count": 110,
   "id": "2e9ad3f9-ef0f-4fe3-87ae-5918b2af1e05",
   "metadata": {
    "pycharm": {
     "name": "#%%\n"
    }
   },
   "outputs": [
    {
     "data": {
      "text/plain": [
       "Outlook        category\n",
       "Temperature     float64\n",
       "Humidity        float64\n",
       "Wind           category\n",
       "Play Golf      category\n",
       "dtype: object"
      ]
     },
     "execution_count": 110,
     "metadata": {},
     "output_type": "execute_result"
    }
   ],
   "source": [
    "categorical_columns = df.select_dtypes('object').columns\n",
    "df[categorical_columns] = df[categorical_columns].astype('category')\n",
    "df.dtypes"
   ]
  },
  {
   "cell_type": "code",
   "execution_count": 116,
   "id": "d2ff485a-64fd-4efe-a829-a58dab83ab66",
   "metadata": {
    "pycharm": {
     "name": "#%%\n"
    }
   },
   "outputs": [],
   "source": [
    "def best_threshold(data , target):\n",
    "    \n",
    "    train_set = data.copy()\n",
    "    kb = KBinsDiscretizer(n_bins=5 , encode='ordinal' , strategy='uniform')\n",
    "    fatures_for_transform = train_set.select_dtypes('float64').columns\n",
    "    train_set[fatures_for_transform] = kb.fit_transform(train_set[fatures_for_transform])\n",
    "\n",
    "    # select discritization features\n",
    "    columns = train_set.drop(target, axis=1).select_dtypes('float').columns\n",
    "    best_thresh = {}\n",
    "\n",
    "    for i , column in enumerate(columns):\n",
    "    \n",
    "        # Calculated Entropy of Parent\n",
    "        entropy_parent = entropy(data[target])\n",
    "        \n",
    "        # Select Threshold\n",
    "        gain_ratio_for_threshs=[]\n",
    "        for thresh in np.unique(train_set[column]):\n",
    "            result = np.where(train_set[column] <= thresh , 1 , 0)\n",
    "        \n",
    "            # Convert result and target to dataframe for Calculate Information Gain\n",
    "            labels = train_set[target].values\n",
    "            dataframe = pd.DataFrame(np.c_[result , labels] , columns=['feature','labels'])\n",
    "            \n",
    "            # Calculated Information Gain for each part\n",
    "            gain_rat = gain_ratio(dataframe , 'feature' , 'labels')\n",
    "            gain_ratio_for_threshs.append(gain_rat)\n",
    "            \n",
    "        best_thresh[column] = kb.bin_edges_[i][np.argmax(gain_ratio_for_threshs)]\n",
    "    return best_thresh"
   ]
  },
  {
   "cell_type": "code",
   "execution_count": 117,
   "id": "dd942f0e-10db-47dd-9219-841066236f5e",
   "metadata": {},
   "outputs": [],
   "source": [
    "def gain_ratio(data , feature , target):\n",
    "    e_parent = entropy(data[target])\n",
    "    e_child = 0\n",
    "    si = 0\n",
    "    for value in data[feature].unique():\n",
    "        subset = data[data[feature]==value]\n",
    "        \n",
    "        if len(subset) == 0:\n",
    "            return 0\n",
    "        \n",
    "        w = len(subset) / len(data)\n",
    "        e_child += w * entropy(subset[target])\n",
    "        \n",
    "        si += -(w * np.log2(w))\n",
    "        info_gain =  e_parent - e_child\n",
    "    return info_gain / si"
   ]
  },
  {
   "cell_type": "code",
   "execution_count": 118,
   "id": "2a1db673-3a08-4e27-a99f-a9ff3433f410",
   "metadata": {},
   "outputs": [],
   "source": [
    "def gain_ratio_for_numerical(data , feature , target):\n",
    "    entropy_parent = entropy(data[target])\n",
    "    entropy_child  = 0\n",
    "    \n",
    "    best_thresh = best_threshold(data , target)\n",
    "    result = np.where(data[feature] <= best_thresh[feature], 1 , 0)\n",
    "    labels = data[target].values\n",
    "    \n",
    "    dataframe = pd.DataFrame(np.c_[result , labels] , columns=['feature','labels'])\n",
    "    \n",
    "    gr = gain_ratio(dataframe , 'feature' , 'labels')\n",
    "    return gr"
   ]
  },
  {
   "cell_type": "code",
   "execution_count": 119,
   "id": "1c0bc800-4983-4252-8ba0-bd40715f9191",
   "metadata": {},
   "outputs": [],
   "source": [
    "def make_tree(data, target):\n",
    "    \n",
    "    # leaf node?\n",
    "    if len(data[target].unique()) == 1:\n",
    "        return Node(label=data[target].iloc[0])\n",
    "    \n",
    "    features = data.drop(target, axis=1).columns\n",
    "    if len(features) == 0 or len(data) == 0:\n",
    "        return Node(label=data[target].mode()[0])\n",
    "    \n",
    "    # calculate information gain\n",
    "    gains = []\n",
    "    \n",
    "    for feature in features:\n",
    "        if data[feature].dtype == 'float':\n",
    "            gains.append(IG_for_numerical(data , feature , target))\n",
    "            \n",
    "        else:\n",
    "            gains.append(IG(data, feature, target))\n",
    "    \n",
    "    # greedy search to find best feature\n",
    "    max_gain_idx = np.argmax(gains)\n",
    "    best_feature = features[max_gain_idx]\n",
    "    \n",
    "    # best threshold on numerical features\n",
    "    best_t = best_threshold(data , target)\n",
    "    \n",
    "    # make a node\n",
    "    node = Node(feature=best_feature)\n",
    "\n",
    "    # loop over the best feature\n",
    "    if data[best_feature].dtype == 'float':\n",
    "        \n",
    "        subset_down = data[data[best_feature] <= best_t[best_feature]].drop(best_feature, axis=1)\n",
    "        subset_up   = data[data[best_feature] > best_t[best_feature]].drop(best_feature, axis=1)\n",
    "        subsets = [subset_down , subset_up]\n",
    "    \n",
    "        node.children[f'<= {best_t[best_feature]}'] = make_tree(subset_down , target)\n",
    "        node.children[f'> {best_t[best_feature]}'] = make_tree(subset_up , target)\n",
    "        \n",
    "    else:\n",
    "        for value in data[best_feature].unique():\n",
    "            subset = data[data[best_feature] == value].drop(best_feature, axis=1)\n",
    "            # display(subset)\n",
    "        \n",
    "            node.children[value] = make_tree(subset, target)\n",
    "            \n",
    "    return node"
   ]
  },
  {
   "cell_type": "code",
   "execution_count": 120,
   "id": "43e7d084-2daa-4ac7-af23-76e0d5e8a7bf",
   "metadata": {},
   "outputs": [
    {
     "data": {
      "text/plain": [
       "DecisionNode(feature=\"Outlook\", children={'Sunny': DecisionNode(feature=\"Humidity\", children={'<= 80.0': LeafNode(label=\"Yes\"), '> 80.0': LeafNode(label=\"No\")}), 'Overcast': LeafNode(label=\"Yes\"), 'Rain': DecisionNode(feature=\"Wind\", children={'Weak': LeafNode(label=\"Yes\"), 'Strong': LeafNode(label=\"No\")})})"
      ]
     },
     "execution_count": 120,
     "metadata": {},
     "output_type": "execute_result"
    }
   ],
   "source": [
    "tree = make_tree(df , 'Play Golf')\n",
    "tree"
   ]
  },
  {
   "cell_type": "code",
   "execution_count": 121,
   "id": "07429778-74a0-4a0e-9923-fd8e11ad38b9",
   "metadata": {},
   "outputs": [
    {
     "data": {
      "text/html": [
       "<div>\n",
       "<style scoped>\n",
       "    .dataframe tbody tr th:only-of-type {\n",
       "        vertical-align: middle;\n",
       "    }\n",
       "\n",
       "    .dataframe tbody tr th {\n",
       "        vertical-align: top;\n",
       "    }\n",
       "\n",
       "    .dataframe thead th {\n",
       "        text-align: right;\n",
       "    }\n",
       "</style>\n",
       "<table border=\"1\" class=\"dataframe\">\n",
       "  <thead>\n",
       "    <tr style=\"text-align: right;\">\n",
       "      <th></th>\n",
       "      <th>Outlook</th>\n",
       "      <th>Temperature</th>\n",
       "      <th>Humidity</th>\n",
       "      <th>Wind</th>\n",
       "      <th>Play Golf</th>\n",
       "    </tr>\n",
       "  </thead>\n",
       "  <tbody>\n",
       "    <tr>\n",
       "      <th>0</th>\n",
       "      <td>Overcast</td>\n",
       "      <td>68</td>\n",
       "      <td>93</td>\n",
       "      <td>Weak</td>\n",
       "      <td>Yes</td>\n",
       "    </tr>\n",
       "    <tr>\n",
       "      <th>1</th>\n",
       "      <td>Rain</td>\n",
       "      <td>66</td>\n",
       "      <td>78</td>\n",
       "      <td>Strong</td>\n",
       "      <td>No</td>\n",
       "    </tr>\n",
       "    <tr>\n",
       "      <th>2</th>\n",
       "      <td>Sunny</td>\n",
       "      <td>79</td>\n",
       "      <td>79</td>\n",
       "      <td>Weak</td>\n",
       "      <td>Yes</td>\n",
       "    </tr>\n",
       "  </tbody>\n",
       "</table>\n",
       "</div>"
      ],
      "text/plain": [
       "    Outlook  Temperature  Humidity    Wind Play Golf\n",
       "0  Overcast           68        93    Weak       Yes\n",
       "1      Rain           66        78  Strong        No\n",
       "2     Sunny           79        79    Weak       Yes"
      ]
     },
     "execution_count": 121,
     "metadata": {},
     "output_type": "execute_result"
    }
   ],
   "source": [
    "test_df = pd.read_csv('data/play_golf_test.csv')\n",
    "test_df"
   ]
  },
  {
   "cell_type": "code",
   "execution_count": 122,
   "id": "086e9613-d5da-430f-b846-4f13e1f8e116",
   "metadata": {},
   "outputs": [
    {
     "data": {
      "text/plain": [
       "Outlook        object\n",
       "Temperature     int64\n",
       "Humidity        int64\n",
       "Wind           object\n",
       "Play Golf      object\n",
       "dtype: object"
      ]
     },
     "execution_count": 122,
     "metadata": {},
     "output_type": "execute_result"
    }
   ],
   "source": [
    "test_df.dtypes"
   ]
  },
  {
   "cell_type": "code",
   "execution_count": 123,
   "id": "c9247913-05b4-4b9b-9b87-f8bddf0ffe8e",
   "metadata": {},
   "outputs": [
    {
     "data": {
      "text/plain": [
       "Outlook         object\n",
       "Temperature    float64\n",
       "Humidity       float64\n",
       "Wind            object\n",
       "Play Golf       object\n",
       "dtype: object"
      ]
     },
     "execution_count": 123,
     "metadata": {},
     "output_type": "execute_result"
    }
   ],
   "source": [
    "int_columns = test_df.select_dtypes('int64').columns\n",
    "test_df[int_columns] = test_df[int_columns].astype('float')\n",
    "test_df.dtypes"
   ]
  },
  {
   "cell_type": "code",
   "execution_count": 124,
   "id": "71820e72-1cc0-4c7b-946e-e61343cf0b41",
   "metadata": {},
   "outputs": [
    {
     "data": {
      "text/plain": [
       "Outlook        category\n",
       "Temperature     float64\n",
       "Humidity        float64\n",
       "Wind           category\n",
       "Play Golf      category\n",
       "dtype: object"
      ]
     },
     "execution_count": 124,
     "metadata": {},
     "output_type": "execute_result"
    }
   ],
   "source": [
    "categorical_columns = test_df.select_dtypes('object').columns\n",
    "test_df[categorical_columns] = test_df[categorical_columns].astype('category')\n",
    "test_df.dtypes"
   ]
  },
  {
   "cell_type": "code",
   "execution_count": 125,
   "id": "ad848dab-3272-45d4-b135-58ee5515a309",
   "metadata": {},
   "outputs": [
    {
     "data": {
      "text/plain": [
       "['Yes', 'No', 'Yes']"
      ]
     },
     "execution_count": 125,
     "metadata": {},
     "output_type": "execute_result"
    }
   ],
   "source": [
    "def pred(node , sample):\n",
    "    if node.feature is None:\n",
    "        return node.label\n",
    "    feature_value = sample[node.feature]\n",
    "    \n",
    "    if feature_value in node.children:\n",
    "        return pred(node.children[feature_value], sample)\n",
    "    else:\n",
    "        for condition in node.children:\n",
    "            operator , threshold = condition.split(' ')\n",
    "            threshold = float(threshold)\n",
    "            \n",
    "            if operator == '<=' and feature_value <= threshold:\n",
    "                return pred(node.children[condition] , sample)\n",
    "            \n",
    "            elif operator == '>' and feature_value > threshold:\n",
    "                return pred(node.children[condition] , sample)\n",
    "\n",
    "            \n",
    "[pred(tree , sample) for _, sample in test_df.iterrows()]"
   ]
  }
 ],
 "metadata": {
  "kernelspec": {
   "display_name": "Python 3",
   "language": "python",
   "name": "python3"
  },
  "language_info": {
   "codemirror_mode": {
    "name": "ipython",
    "version": 3
   },
   "file_extension": ".py",
   "mimetype": "text/x-python",
   "name": "python",
   "nbconvert_exporter": "python",
   "pygments_lexer": "ipython3",
   "version": "3.7.16"
  }
 },
 "nbformat": 4,
 "nbformat_minor": 5
}
